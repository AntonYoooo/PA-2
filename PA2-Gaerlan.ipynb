{
 "cells": [
  {
   "cell_type": "markdown",
   "id": "d0576ab7-02c5-4aa4-9849-2af344dfa35b",
   "metadata": {},
   "source": [
    "# **1. Normalization Problem**"
   ]
  },
  {
   "cell_type": "code",
   "execution_count": 15,
   "id": "15033c5e-e20a-4a63-a7d2-439fe921ef2d",
   "metadata": {},
   "outputs": [
    {
     "name": "stdout",
     "output_type": "stream",
     "text": [
      "The Normal Values are:\n",
      "[[0.0429153  0.71320353 0.84346377 0.89792048 0.00908847]\n",
      " [0.27847999 0.24716525 0.6438421  0.30452875 0.96621432]\n",
      " [0.18870679 0.79441247 0.18555828 0.38369649 0.40057524]\n",
      " [0.86066334 0.55140194 0.04712129 0.71553944 0.81095392]\n",
      " [0.1058107  0.09822365 0.83620896 0.45017441 0.35128752]]\n",
      "The Normalized Values are:\n",
      "[[-1.38171428  0.79146717  1.21379165  1.390349   -1.49138624]\n",
      " [-0.61797595 -0.71950332  0.56658636 -0.53352171  1.61176854]\n",
      " [-0.90903497  1.05475952 -0.91924295 -0.27684725 -0.22212365]\n",
      " [ 1.26955542  0.2668806  -1.36807777  0.79904056  1.10838954]\n",
      " [-1.17779734 -1.20239577  1.19027039 -0.06131523 -0.38192229]]\n"
     ]
    }
   ],
   "source": [
    "# import numpy to access its library\n",
    "import numpy as np\n",
    "\n",
    "# store the value of a random 5x5 ndarray in X\n",
    "X = np.random.rand(5, 5)\n",
    "# store the mean of X in variable A\n",
    "A = X.mean()\n",
    "# store the standard deviation of X in B\n",
    "B = X.std()\n",
    "# store the normalization formula in C\n",
    "C = (X - A) / B\n",
    "\n",
    "# prints the 5x5 array with original Values\n",
    "print(\"The Normal Values are:\")\n",
    "print(X)\n",
    "# prints the 5x5 array with the normalized values\n",
    "print(\"The Normalized Values are:\")\n",
    "print(C)"
   ]
  },
  {
   "cell_type": "markdown",
   "id": "20b9b268-b6d7-45b0-8272-897d4f04246d",
   "metadata": {},
   "source": [
    "# **2. Divisible By 3 Problem**"
   ]
  },
  {
   "cell_type": "code",
   "execution_count": 22,
   "id": "02605448-31ee-45fb-bf08-fffe1ec35c3b",
   "metadata": {},
   "outputs": [
    {
     "name": "stdout",
     "output_type": "stream",
     "text": [
      "The squares of the first 100 natural numbers are:\n",
      "[[    1     4     9    16    25    36    49    64    81   100]\n",
      " [  121   144   169   196   225   256   289   324   361   400]\n",
      " [  441   484   529   576   625   676   729   784   841   900]\n",
      " [  961  1024  1089  1156  1225  1296  1369  1444  1521  1600]\n",
      " [ 1681  1764  1849  1936  2025  2116  2209  2304  2401  2500]\n",
      " [ 2601  2704  2809  2916  3025  3136  3249  3364  3481  3600]\n",
      " [ 3721  3844  3969  4096  4225  4356  4489  4624  4761  4900]\n",
      " [ 5041  5184  5329  5476  5625  5776  5929  6084  6241  6400]\n",
      " [ 6561  6724  6889  7056  7225  7396  7569  7744  7921  8100]\n",
      " [ 8281  8464  8649  8836  9025  9216  9409  9604  9801 10000]]\n",
      "\n",
      "\n",
      "The numbers divisible by 3 are:\n",
      "[[   9   36   81  144  225  324  441  576  729  900 1089]\n",
      " [1296 1521 1764 2025 2304 2601 2916 3249 3600 3969 4356]\n",
      " [4761 5184 5625 6084 6561 7056 7569 8100 8649 9216 9801]]\n"
     ]
    }
   ],
   "source": [
    "# import numpy to access its library\n",
    "import numpy as np\n",
    "\n",
    "# generates values inside an array ranging from 1-100 \n",
    "X = np.arange(1, 101)\n",
    "# square the values inside the array and declare it as A \n",
    "A = X * X\n",
    "# Reshape array A into a 10X10 Matrix\n",
    "B = A.reshape(10, 10)\n",
    "\n",
    "# checks and filters the value divisible by 3 in A \n",
    "# returns an array filled with the numbers that are divisible by 3\n",
    "C = A[A % 3 == 0]\n",
    "# reshape the array into a 3X11 for readability \n",
    "D = C.reshape(3, 11)\n",
    "\n",
    "# print the squares of the first 100 natural numbers\n",
    "print(\"The squares of the first 100 natural numbers are:\")\n",
    "print(B)\n",
    "\n",
    "# \\n for readability \n",
    "print(\"\\n\") \n",
    "\n",
    "# prints the numbers divisible by 3 found on array B \n",
    "print(\"The numbers divisible by 3 are:\")\n",
    "print(D)"
   ]
  }
 ],
 "metadata": {
  "kernelspec": {
   "display_name": "Python 3 (ipykernel)",
   "language": "python",
   "name": "python3"
  },
  "language_info": {
   "codemirror_mode": {
    "name": "ipython",
    "version": 3
   },
   "file_extension": ".py",
   "mimetype": "text/x-python",
   "name": "python",
   "nbconvert_exporter": "python",
   "pygments_lexer": "ipython3",
   "version": "3.12.4"
  }
 },
 "nbformat": 4,
 "nbformat_minor": 5
}
