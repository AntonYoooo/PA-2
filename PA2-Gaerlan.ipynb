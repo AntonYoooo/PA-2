{
 "cells": [
  {
   "cell_type": "markdown",
   "id": "d0576ab7-02c5-4aa4-9849-2af344dfa35b",
   "metadata": {},
   "source": [
    "# **1. Normalization Problem**"
   ]
  },
  {
   "cell_type": "code",
   "execution_count": 28,
   "id": "15033c5e-e20a-4a63-a7d2-439fe921ef2d",
   "metadata": {},
   "outputs": [
    {
     "name": "stdout",
     "output_type": "stream",
     "text": [
      "The Original Values Generated are:\n",
      "[[0.13814155 0.89629086 0.92245677 0.93330008 0.79406436]\n",
      " [0.58759801 0.96949339 0.06955327 0.08950852 0.96830453]\n",
      " [0.46407505 0.68784998 0.63574641 0.73787025 0.46774163]\n",
      " [0.93646382 0.30028383 0.21545066 0.92237397 0.25825055]\n",
      " [0.54785126 0.43886868 0.42406502 0.31341392 0.64881748]]\n",
      "The Normalized Values are:\n",
      "[[-1.49500272  1.10121463  1.19081754  1.22794951  0.75114872]\n",
      " [ 0.04412239  1.3518904  -1.72987744 -1.66154238  1.34781925]\n",
      " [-0.3788714   0.38742668  0.20900248  0.55871681 -0.3663155 ]\n",
      " [ 1.23878349 -0.93976039 -1.23026433  1.19053399 -1.08369977]\n",
      " [-0.09198693 -0.46518845 -0.51588233 -0.89479752  0.25376323]]\n"
     ]
    }
   ],
   "source": [
    "# import numpy to access its library\n",
    "import numpy as np\n",
    "\n",
    "# store the value of a random 5x5 ndarray in X\n",
    "X = np.random.rand(5, 5)\n",
    "# store the mean of X in variable A\n",
    "A = X.mean()\n",
    "# store the standard deviation of X in B\n",
    "B = X.std()\n",
    "# store the normalization formula in C\n",
    "C = (X - A) / B\n",
    "\n",
    "# prints the 5x5 array with original Values\n",
    "print(\"The Original Values Generated are:\")\n",
    "print(X)\n",
    "\n",
    "# prints the 5x5 array with the normalized values\n",
    "print(\"The Normalized Values are:\")\n",
    "print(C)"
   ]
  },
  {
   "cell_type": "markdown",
   "id": "20b9b268-b6d7-45b0-8272-897d4f04246d",
   "metadata": {},
   "source": [
    "# **2. Divisible By 3 Problem**"
   ]
  },
  {
   "cell_type": "code",
   "execution_count": 34,
   "id": "02605448-31ee-45fb-bf08-fffe1ec35c3b",
   "metadata": {},
   "outputs": [
    {
     "name": "stdout",
     "output_type": "stream",
     "text": [
      "The squares of the first 100 natural numbers are:\n",
      "[[    1     4     9    16    25    36    49    64    81   100]\n",
      " [  121   144   169   196   225   256   289   324   361   400]\n",
      " [  441   484   529   576   625   676   729   784   841   900]\n",
      " [  961  1024  1089  1156  1225  1296  1369  1444  1521  1600]\n",
      " [ 1681  1764  1849  1936  2025  2116  2209  2304  2401  2500]\n",
      " [ 2601  2704  2809  2916  3025  3136  3249  3364  3481  3600]\n",
      " [ 3721  3844  3969  4096  4225  4356  4489  4624  4761  4900]\n",
      " [ 5041  5184  5329  5476  5625  5776  5929  6084  6241  6400]\n",
      " [ 6561  6724  6889  7056  7225  7396  7569  7744  7921  8100]\n",
      " [ 8281  8464  8649  8836  9025  9216  9409  9604  9801 10000]]\n",
      "\n",
      "\n",
      "The numbers divisible by 3 are:\n",
      "[[   9   36   81  144  225  324  441  576  729  900 1089]\n",
      " [1296 1521 1764 2025 2304 2601 2916 3249 3600 3969 4356]\n",
      " [4761 5184 5625 6084 6561 7056 7569 8100 8649 9216 9801]]\n"
     ]
    }
   ],
   "source": [
    "# import numpy to access its library\n",
    "import numpy as np\n",
    "\n",
    "# generates values inside an array ranging from 1-100 \n",
    "X = np.arange(1, 101)\n",
    "# square the values inside the array and declare it as A \n",
    "A = X * X\n",
    "# Reshape array A into a 10X10 Matrix\n",
    "B = A.reshape(10, 10)\n",
    "\n",
    "# checks and filters the value divisible by 3 in A \n",
    "# returns an array filled with the numbers that are divisible by 3\n",
    "C = A[A % 3 == 0]\n",
    "# reshape the array into a 3X11 for readability \n",
    "D = C.reshape(3, 11)\n",
    "\n",
    "# print the squares of the first 100 natural numbers\n",
    "print(\"The squares of the first 100 natural numbers are:\")\n",
    "print(B)\n",
    "\n",
    "# \\n for readability \n",
    "print(\"\\n\") \n",
    "\n",
    "# prints the numbers divisible by 3 found on array B \n",
    "print(\"The numbers divisible by 3 are:\")\n",
    "print(D)"
   ]
  }
 ],
 "metadata": {
  "kernelspec": {
   "display_name": "Python 3 (ipykernel)",
   "language": "python",
   "name": "python3"
  },
  "language_info": {
   "codemirror_mode": {
    "name": "ipython",
    "version": 3
   },
   "file_extension": ".py",
   "mimetype": "text/x-python",
   "name": "python",
   "nbconvert_exporter": "python",
   "pygments_lexer": "ipython3",
   "version": "3.12.4"
  }
 },
 "nbformat": 4,
 "nbformat_minor": 5
}
